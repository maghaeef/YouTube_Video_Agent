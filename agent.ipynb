{
 "cells": [
  {
   "cell_type": "code",
   "execution_count": 19,
   "metadata": {},
   "outputs": [],
   "source": [
    "!pip install youtube-transcript-api -q"
   ]
  },
  {
   "cell_type": "code",
   "execution_count": 21,
   "metadata": {},
   "outputs": [
    {
     "name": "stdout",
     "output_type": "stream",
     "text": [
      "OpenAI Key: sk-1G1d2...\n"
     ]
    }
   ],
   "source": [
    "from youtube_transcript_api import YouTubeTranscriptApi\n",
    "from agents import Agent, function_tool, Runner, ItemHelpers, RunContextWrapper\n",
    "import re\n",
    "import os\n",
    "from openai.types.responses import ResponseTextDeltaEvent\n",
    "from dotenv import load_dotenv\n",
    "import asyncio\n",
    "\n",
    "load_dotenv() # to load open ai secret key into my python environment\n",
    "\n",
    "# Checking the access to the openai secret key\n",
    "openai_api_key = os.getenv(\"OPENAI_API_KEY\")\n",
    "print(\"OpenAI Key:\", openai_api_key[:8] + \"...\" if openai_api_key else \"Key not found\")"
   ]
  },
  {
   "cell_type": "markdown",
   "metadata": {},
   "source": [
    "#### **Openai definition of an AI agent:**\n",
    "- Agents are the core building block in your apps. \n",
    "- An agent is a **Large Language Model (LLM)**, configured with instructions and **tools**."
   ]
  },
  {
   "cell_type": "code",
   "execution_count": 37,
   "metadata": {},
   "outputs": [],
   "source": [
    "# define instructions\n",
    "instructions = \"You provide help with tasks related to YouTube Videos.\""
   ]
  },
  {
   "cell_type": "markdown",
   "metadata": {},
   "source": [
    "by adding `@function_tool` decorator you can easily convert any python function to a tool in OpenAI Agent SDK... Super cool!"
   ]
  },
  {
   "cell_type": "code",
   "execution_count": 42,
   "metadata": {},
   "outputs": [
    {
     "name": "stdout",
     "output_type": "stream",
     "text": [
      "===YouTube Transcript Agent===\n",
      "Type 'exit' to end the conversation\n",
      "Ask me anything about YouTube Videos!\n",
      "\n",
      "Agent: \n",
      "-- Fetching transcript...\n",
      "-- Transcript fetched.\n",
      "Based on the debate transcript between former President Donald Trump and Vice President Kamala Harris, here are the main viewpoints and statements from each:\n",
      "\n",
      "### Donald Trump:\n",
      "- **Economy:** Trump focused on condemning Harris's economic plans, claiming they would worsen the deficit and increase inflation. He argued for cutting taxes substantially and claimed that his past economic policies led to significant growth and low inflation.\n",
      "- **Immigration:** He criticized Harris for increased illegal immigration and crime, suggesting that it was damaging the country. He proposed using local police and the National Guard for mass deportations.\n",
      "- **Abortion:** Trump emphasized his role in overturning Roe v. Wade, framing it as a win for democracy by returning the power to the states. He distanced himself from the idea of a national abortion ban.\n",
      "- **Foreign Policy:** He argued that his administration was feared and respected internationally and claimed that wars and international issues worsened under the current administration.\n",
      "- **January 6th:** Trump deflected responsibility for the events at the Capitol, criticizing Pelosi for not providing adequate security.\n",
      "- **Healthcare:** He criticized Obamacare as ineffective and costly and suggested he would support a better, less expensive alternative.\n",
      "- **Climate Change:** Trump did not prioritize climate change but focused on maintaining traditional energy resources and criticized the Biden administration's approach to the environment.\n",
      "\n",
      "### Kamala Harris:\n",
      "- **Economy:** Harris emphasized her plans to support middle-class and working families with tax credits and support for small businesses. She framed her \"Opportunity Economy\" as a contrast to Trump's tax policies favoring the wealthy.\n",
      "- **Immigration:** She highlighted her background in prosecuting transnational crime and criticized Trump for not supporting legislation that would have increased border security.\n",
      "- **Abortion:** Harris is committed to reinstating Roe v. Wade protections, criticizing Trump's abortion policies as extreme and harmful to women's rights.\n",
      "- **Foreign Policy:** Harris accused Trump of being manipulated by dictators and criticized his relationship with them, emphasizing the need for strong international alliances.\n",
      "- **January 6th:** She held Trump responsible for inciting violence and emphasized the importance of rule of law and democracy.\n",
      "- **Healthcare:** Harris supported maintaining and strengthening the Affordable Care Act, criticizing Trump's repeated attempts to dismantle it.\n",
      "- **Climate Change:** Harris argued it is a real and pressing issue and highlighted investments made in clean energy under her vice presidency to combat climate change.\n",
      "\n",
      "Overall, the debate revealed stark differences in policy and vision for America between Trump and Harris, with each candidate attacking the other's record and proposed policies.\n",
      "\n",
      "\n",
      "Goodbye!\n"
     ]
    }
   ],
   "source": [
    "@function_tool\n",
    "def fetch_youtube_transcript(url: str) -> str:\n",
    "    \"\"\"\n",
    "    Extract transcript with timestamps from a YouTube Video URL and format it for LLM consumption.\n",
    "\n",
    "    Args:\n",
    "        url (str): YouTube Video URL link\n",
    "\n",
    "    Returns:\n",
    "        Formatted transcript with timestamps, where each entry is on a enw line in the format: \"[MM:SS] Text\"\n",
    "    \"\"\"\n",
    "    # Extract video ID from URL\n",
    "    video_id_pattern = r'(?:v=|\\/)([0-9A-Za-z_-]{11}).*'\n",
    "\n",
    "    video_id_match = re.search(video_id_pattern, url)\n",
    "\n",
    "    if not video_id_match:\n",
    "        raise ValueError(\"Invalid YouTube URL\")\n",
    "    \n",
    "    video_id = video_id_match.group(1)\n",
    "\n",
    "    try: \n",
    "        transcript = YouTubeTranscriptApi.get_transcript(video_id)\n",
    "\n",
    "        # format each entry with timestamp and text\n",
    "        formatted_entries = []\n",
    "        for entry in transcript:\n",
    "            # convert seconds to MM:SS format \n",
    "            minutes = int(entry['start']//60)\n",
    "            seconds = int(entry['start']%60)\n",
    "            timestamp = f\"[{minutes:02d}:{seconds:02d}]\"\n",
    "            \n",
    "            formatted_entry = f\"{timestamp} {entry['text']}\"\n",
    "            formatted_entries.append(formatted_entry)\n",
    "        \n",
    "        # join all entries with newlines\n",
    "        return \"\\n\".join(formatted_entries)\n",
    "\n",
    "    except Exception as e:\n",
    "        raise Exception(f\"Error fetching transcript: {str(e)}\")\n",
    "    \n",
    "# define agent\n",
    "agent = Agent(\n",
    "    name=\"YouTube Transcript Agent\",\n",
    "    instructions=instructions,\n",
    "    tools=[fetch_youtube_transcript],\n",
    ")\n",
    "\n",
    "# define main chat function \n",
    "async def main():\n",
    "    input_items = []\n",
    "\n",
    "    print(\"===YouTube Transcript Agent===\")\n",
    "    print(\"Type 'exit' to end the conversation\")\n",
    "    print(\"Ask me anything about YouTube Videos!\")\n",
    "\n",
    "    while True: \n",
    "        # Get user input:\n",
    "        user_input = input(\"\\nYou: \").strip()\n",
    "        input_items.append({\n",
    "                \"content\": user_input,\n",
    "                \"role\": \"user\"\n",
    "                })\n",
    "        \n",
    "        # check for exit command:\n",
    "        if user_input.lower() in [\"exit\", \"quit\", \"bye\"]:\n",
    "            print(\"\\nGoodbye!\")\n",
    "            break\n",
    "        \n",
    "        if not user_input:\n",
    "            continue\n",
    "\n",
    "        print(\"\\nAgent: \", end=\"\", flush=True)\n",
    "        result = Runner.run_streamed(\n",
    "            starting_agent=agent,\n",
    "            input=input_items\n",
    "        )\n",
    "        async for event in result.stream_events():\n",
    "            # We'll ignore the raw responses event deltas\n",
    "            if event.type == \"raw_response_event\" and isinstance(event.data, ResponseTextDeltaEvent):\n",
    "                print(event.data.delta, end=\"\", flush=True)\n",
    "            \n",
    "            elif event.type == \"agent_updated_stream_event\": \n",
    "                continue\n",
    "\n",
    "            elif event.type == \"run_item_stream_event\":    \n",
    "                if event.item.type == \"tool_call_item\":\n",
    "                    print(\"\\n-- Fetching transcript...\")\n",
    "                \n",
    "                elif event.item.type == \"tool_call_output_item\":\n",
    "                    input_items.append({\"content\": f\"Transcript:\\n{event.item.output}\", \"role\": \"system\"})\n",
    "                    print(\"-- Transcript fetched.\")\n",
    "\n",
    "                elif event.item.type == \"message_output_item\":\n",
    "                    input_items.append({\n",
    "                        \"content\": f\"{event.item.raw_item}\", \n",
    "                        \"role\": \"assistant\"\n",
    "                        })\n",
    "                \n",
    "                else:\n",
    "                    pass  # Ignore other event types\n",
    "\n",
    "        print(\"\\n\")  # Add a newline after each response\n",
    "\n",
    "if __name__ == \"__main__\":\n",
    "    await main()"
   ]
  },
  {
   "cell_type": "code",
   "execution_count": null,
   "metadata": {},
   "outputs": [],
   "source": []
  }
 ],
 "metadata": {
  "kernelspec": {
   "display_name": "clean",
   "language": "python",
   "name": "python3"
  },
  "language_info": {
   "codemirror_mode": {
    "name": "ipython",
    "version": 3
   },
   "file_extension": ".py",
   "mimetype": "text/x-python",
   "name": "python",
   "nbconvert_exporter": "python",
   "pygments_lexer": "ipython3",
   "version": "3.11.12"
  }
 },
 "nbformat": 4,
 "nbformat_minor": 2
}
