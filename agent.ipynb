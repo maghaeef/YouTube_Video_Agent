{
 "cells": [
  {
   "cell_type": "code",
   "execution_count": null,
   "metadata": {},
   "outputs": [
    {
     "name": "stdout",
     "output_type": "stream",
     "text": [
      "OpenAI Key: sk-1G1d2...\n"
     ]
    }
   ],
   "source": [
    "from agents import Agent, function_tool, Runner, ItemHelpers, RunContextWrapper\n",
    "import re\n",
    "import os\n",
    "from openai.types.responses import ResponseTextDeltaEvent\n",
    "from dotenv import load_dotenv\n",
    "import asyncio\n",
    "\n",
    "load_dotenv() # to load open ai secret key into my python environment\n",
    "\n",
    "# Checking the access to the openai secret key\n",
    "openai_api_key = os.getenv(\"OPENAI_API_KEY\")\n",
    "print(\"OpenAI Key:\", openai_api_key[:8] + \"...\" if openai_api_key else \"Key not found\")"
   ]
  },
  {
   "cell_type": "markdown",
   "metadata": {},
   "source": [
    "#### **Openai definition of an AI agent:**\n",
    "- Agents are the core building block in your apps. \n",
    "- An agent is a **Large Language Model (LLM)**, configured with instructions and **tools**."
   ]
  },
  {
   "cell_type": "code",
   "execution_count": null,
   "metadata": {},
   "outputs": [],
   "source": [
    "# define instructions\n",
    "instructions = \"You provide help with tasks related to YouTube Videos.\""
   ]
  },
  {
   "cell_type": "markdown",
   "metadata": {},
   "source": [
    "by adding `@function_tool` decorator you can easily convert any python function to a tool in OpenAI Agent SDK... Super cool!"
   ]
  },
  {
   "cell_type": "code",
   "execution_count": null,
   "metadata": {},
   "outputs": [],
   "source": [
    "# @function_tool\n",
    "def fetch_youtube_transcript(url: str) -> str:\n",
    "    \"\"\"\n",
    "    Extract transcript with timestamps from a YouTube Video URL and format it for LLM consumption.\n",
    "\n",
    "    Args:\n",
    "        url (str): YouTube Video URL link\n",
    "\n",
    "    Returns:\n",
    "        Formatted transcript with timestamps, where each entry is on a enw line in the format: \"[MM:SS] Text\"\n",
    "    \"\"\"\n",
    "    # Extract video ID from URL\n",
    "    video_id_pattern = r'(?:v=|\\/)([0-9A-Za-z_-]{11}).*'\n",
    "\n",
    "    video_id_match = re.search(video_id_pattern, url)\n",
    "\n",
    "    if not video_id_match:\n",
    "        raise ValueError(\"Invalid YouTube URL\")\n",
    "    \n",
    "    video_id = video_id_match.group(1)\n",
    "\n",
    "    \n",
    "    return video_id"
   ]
  },
  {
   "cell_type": "code",
   "execution_count": 16,
   "metadata": {},
   "outputs": [
    {
     "data": {
      "text/plain": [
       "'Ngpx8kaWc2A'"
      ]
     },
     "execution_count": 16,
     "metadata": {},
     "output_type": "execute_result"
    }
   ],
   "source": [
    "fetch_youtube_transcript(\"https://www.youtube.com/watch?v=Ngpx8kaWc2A\")"
   ]
  },
  {
   "cell_type": "code",
   "execution_count": null,
   "metadata": {},
   "outputs": [],
   "source": []
  }
 ],
 "metadata": {
  "kernelspec": {
   "display_name": "clean",
   "language": "python",
   "name": "python3"
  },
  "language_info": {
   "codemirror_mode": {
    "name": "ipython",
    "version": 3
   },
   "file_extension": ".py",
   "mimetype": "text/x-python",
   "name": "python",
   "nbconvert_exporter": "python",
   "pygments_lexer": "ipython3",
   "version": "3.11.12"
  }
 },
 "nbformat": 4,
 "nbformat_minor": 2
}
